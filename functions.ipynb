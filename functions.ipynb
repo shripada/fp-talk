{
 "cells": [
  {
   "cell_type": "code",
   "execution_count": 1,
   "id": "06f020f8",
   "metadata": {},
   "outputs": [],
   "source": [
    "import { assertEquals } from 'https://deno.land/std@0.224.0/assert/mod.ts';\n"
   ]
  },
  {
   "cell_type": "markdown",
   "id": "80f9d691-d0cb-4c7e-9d91-77ba27668699",
   "metadata": {
    "jp-MarkdownHeadingCollapsed": true
   },
   "source": [
    "## Pure Functions\n"
   ]
  },
  {
   "cell_type": "code",
   "execution_count": 8,
   "id": "68fad42d-10af-4845-a949-eb1026501669",
   "metadata": {
    "collapsed": true,
    "jupyter": {
     "outputs_hidden": true,
     "source_hidden": true
    }
   },
   "outputs": [],
   "source": [
    "// 1. Adds two numbers and returns the sum\n",
    "function add(a: number, b: number): number {\n",
    "  return a + b;\n",
    "}\n",
    "\n",
    "// Test cases for add function\n",
    "assertEquals(add(3, 5), 8);\n",
    "assertEquals(add(-1, 1), 0);\n",
    "assertEquals(add(0, 0), 0);\n"
   ]
  },
  {
   "cell_type": "code",
   "execution_count": 14,
   "id": "38901939-c2ba-456c-a44c-7b155a6bd6e8",
   "metadata": {
    "jupyter": {
     "source_hidden": true
    }
   },
   "outputs": [],
   "source": [
    "// 2. Converts Celsius to Fahrenheit\n",
    "function toFahrenheit(celsius: number): number {\n",
    "  return (celsius * 9) / 5 + 32;\n",
    "}\n",
    "\n",
    "// Test cases for toFahrenheit function\n",
    "assertEquals(toFahrenheit(0), 32);\n",
    "assertEquals(toFahrenheit(100), 212);\n",
    "assertEquals(toFahrenheit(-10), 14);\n",
    "assertEquals(toFahrenheit(-10), 14);\n"
   ]
  },
  {
   "cell_type": "code",
   "execution_count": 12,
   "id": "baf29fff-2a6c-4f16-9f64-506d1cbd7913",
   "metadata": {
    "collapsed": true,
    "jupyter": {
     "outputs_hidden": true,
     "source_hidden": true
    }
   },
   "outputs": [],
   "source": [
    "// 3. get the trimmed string\n",
    "function trim(str: string): string {\n",
    "  let trimmed = '';\n",
    "  let canCopySpace = false;\n",
    "  let collectedSpaces = '';\n",
    "  for (let i = 0; i < str.length; i++) {\n",
    "    if (str[i] === ' ') {\n",
    "      if (canCopySpace) {\n",
    "        collectedSpaces += ' ';\n",
    "      }\n",
    "    } else {\n",
    "      if (collectedSpaces != '') {\n",
    "        trimmed += collectedSpaces;\n",
    "        collectedSpaces = '';\n",
    "      }\n",
    "      trimmed += str[i];\n",
    "      canCopySpace = true;\n",
    "    }\n",
    "  }\n",
    "  return trimmed;\n",
    "}\n",
    "\n",
    "// Test cases for capitalize function\n",
    "assertEquals(trim('    I love India   '), 'I love India');\n",
    "assertEquals(\n",
    "  trim('Programming is    understanding   '),\n",
    "  'Programming is    understanding'\n",
    ");\n",
    "\n",
    "assertEquals(\n",
    "  trim('Programming is    understanding   '),\n",
    "  'Programming is    understanding'\n",
    ");\n",
    "\n",
    "assertEquals(trim(''), '');\n"
   ]
  },
  {
   "cell_type": "code",
   "execution_count": 20,
   "id": "13fbb000",
   "metadata": {},
   "outputs": [],
   "source": [
    "// Get an array by adding an item to the passed in array.\n",
    "function arrayByAdding<T>(array: T[], item: T): T[] {\n",
    "  array.push(item); // Very bad, mutates the argument itself!\n",
    "  return array;\n",
    "}\n",
    "\n",
    "const nums = [1, 2];\n",
    "\n",
    "assertEquals(arrayByAdding(nums, 3), [1, 2, 3]);\n",
    "// assertEquals(arrayByAdding(nums, 3), [1, 2, 3]);\n"
   ]
  },
  {
   "cell_type": "code",
   "execution_count": null,
   "id": "99103e97",
   "metadata": {},
   "outputs": [],
   "source": []
  },
  {
   "cell_type": "markdown",
   "id": "6ce94997",
   "metadata": {},
   "source": [
    "<div style=\"max-width:720px; border: 2px solid #e63946; border-radius: 12px; padding: 20px; background: #fff5f5; font-family: 'Segoe UI', sans-serif; line-height: 1.8; font-size: 16px; color: #333;\">\n",
    "\n",
    "  <h2 style=\"margin-top: 0; color: #d62828;\">⚠️ Impure Functions</h2>\n",
    "\n",
    "  <p style=\"font-size: 17px;\">\n",
    "    <strong>Impure functions</strong> are functions that cause <em>side effects</em>.<br>\n",
    "    A side effect is any change in the system state that is observable outside the called function.\n",
    "  </p>\n",
    "\n",
    "  <h3 style=\"color: #e76f51;\">🔑 Key things they do:</h3>\n",
    "  <ul style=\"font-size: 16px;\">\n",
    "    <li>❌ Modifying global variables or external state.</li>\n",
    "    <li>❌ Performing I/O operations (e.g., reading/writing files, network requests, console logging).</li>\n",
    "    <li>❌ Mutating input arguments.</li>\n",
    "    <li>❌ Relying on external factors like time or random number generation.</li>\n",
    "  </ul>\n",
    "\n",
    "  <p style=\"font-weight: bold; font-size: 17px; color: #c1121f;\">\n",
    "    ⚡ Impure functions introduce side effects, making them harder to test and reason about.\n",
    "  </p>\n",
    "</div>\n"
   ]
  },
  {
   "cell_type": "markdown",
   "id": "a43eb25f-6027-452e-9f93-202d04af8930",
   "metadata": {
    "jp-MarkdownHeadingCollapsed": true,
    "jupyter": {
     "source_hidden": true
    }
   },
   "source": [
    "<div style=\"max-width:720px; border: 2px solid #4cafef; border-radius: 12px; padding: 20px; background: #f0f8ff; font-family: 'Segoe UI', sans-serif; line-height: 1.8; font-size: 20px; color: #333;\">\n",
    "\n",
    "  <h2 style=\"margin-top: 0; color: #0077b6;\">✨ Pure Functions</h2>\n",
    "\n",
    "  <p style=\"font-size: 17px;\">\n",
    "    All the above are <strong>Pure functions</strong>.<br>\n",
    "    They solely depend on the <em>arguments</em> to compute the return value.\n",
    "  </p>\n",
    "\n",
    "  <h3 style=\"color: #009688; font-size: 18px;\">🔑 Key things they avoid:</h3>\n",
    "  <ul style=\"list-style: none; padding-left: 0; font-size: 16px;\">\n",
    "    <li>✅ No reading/modifying global variables.</li>\n",
    "    <li>✅ No printing to console.</li>\n",
    "    <li>✅ No changing input arguments (mutation).</li>\n",
    "    <li>✅ No network calls, file I/O, or random number generation.</li>\n",
    "    <li>✅ No exceptions thrown.</li>\n",
    "  </ul>\n",
    "\n",
    "  <p style=\"font-weight: bold; font-size: 17px; color: #4a07c8ff;\">\n",
    "    🚀 Pure functions have no side effects!<br>\n",
    "    🚀 We can easily test them too \n",
    "  </p>\n"
   ]
  },
  {
   "cell_type": "markdown",
   "id": "966c7b26",
   "metadata": {},
   "source": [
    "## Impure functions\n"
   ]
  },
  {
   "cell_type": "code",
   "execution_count": 24,
   "id": "d9a3e29d",
   "metadata": {},
   "outputs": [
    {
     "name": "stdout",
     "output_type": "stream",
     "text": [
      "Counter: 1\n"
     ]
    }
   ],
   "source": [
    "let globalCounter = 0;\n",
    "\n",
    "/**\n",
    " * Increments a global counter and logs the new value.\n",
    " * This is an impure function because it modifies an external variable (`globalCounter`)\n",
    " * and performs a side effect (logging to the console).\n",
    " * @returns The new value of the global counter.\n",
    " */\n",
    "function incrementAndLog(): number {\n",
    "  globalCounter++; // Side effect: modifies external state\n",
    "  console.log(`Counter: ${globalCounter}`); // Side effect: I/O operation (console logging)\n",
    "  return globalCounter;\n",
    "}\n",
    "\n",
    "// globalCounter = 10;\n",
    "assertEquals(incrementAndLog(), 1);\n"
   ]
  },
  {
   "cell_type": "code",
   "execution_count": 25,
   "id": "827cc343",
   "metadata": {},
   "outputs": [],
   "source": [
    "// Get an array by adding an item to the passed in array.\n",
    "function arrayByAdding<T>(array: T[], item: T): T[] {\n",
    "  array.push(item); // Very bad, mutates the argument itself!\n",
    "  return array;\n",
    "}\n",
    "\n",
    "const nums = [1, 2];\n",
    "\n",
    "assertEquals(arrayByAdding(nums, 3), [1, 2, 3]);\n",
    "//assertEquals(arrayByAdding(nums, 3), [1, 2, 3]);\n"
   ]
  },
  {
   "cell_type": "markdown",
   "id": "8502108a",
   "metadata": {},
   "source": [
    "<div style=\"max-width:720px; border: 2px solid #e63946; border-radius: 12px; padding: 20px; background: #fff5f5; font-family: 'Segoe UI', sans-serif; line-height: 1.8; font-size: 16px; color: #333;\">\n",
    "\n",
    "  <h2 style=\"margin-top: 0; color: #d62828;\">⚠️ Impure Functions</h2>\n",
    "\n",
    "  <p style=\"font-size: 17px;\">\n",
    "    <strong>Impure functions</strong> are functions that cause <em>side effects</em>.<br>\n",
    "    A side effect is any change in the system state that is observable outside the called function.\n",
    "  </p>\n",
    "\n",
    "  <h3 style=\"color: #e76f51;\">🔑 Key things they do:</h3>\n",
    "  <ul style=\"font-size: 16px;\">\n",
    "    <li>❌ Modifying global variables or external state.</li>\n",
    "    <li>❌ Performing I/O operations (e.g., reading/writing files, network requests, console logging).</li>\n",
    "    <li>❌ Mutating input arguments.</li>\n",
    "    <li>❌ Relying on external factors like time or random number generation.</li>\n",
    "  </ul>\n",
    "\n",
    "  <p style=\"font-weight: bold; font-size: 17px; color: #c1121f;\">\n",
    "    ⚡ Impure functions introduce side effects, making them harder to test and reason about.\n",
    "  </p>\n",
    "</div>\n"
   ]
  },
  {
   "cell_type": "markdown",
   "id": "b876c0df",
   "metadata": {},
   "source": []
  },
  {
   "cell_type": "markdown",
   "id": "c4de6016",
   "metadata": {},
   "source": [
    "## Functions are first class citizens in JS\n"
   ]
  },
  {
   "cell_type": "markdown",
   "id": "d06e5fe7-4bf9-4642-815f-a57dd105a3fe",
   "metadata": {
    "jupyter": {
     "source_hidden": true
    }
   },
   "source": [
    "<div style=\"max-width:720px; border: 2px solid #6a5acd; border-radius: 12px; padding: 20px; background: #f9f8ff; font-family: 'Segoe UI', sans-serif; line-height: 1.8; font-size: 16px; color: #2d2d2d;\">\n",
    "\n",
    "  <h2 style=\"margin-top: 0; color: #483d8b;\">✨ First-Class Functions</h2>\n",
    "\n",
    "  <p style=\"font-size: 17px;\">\n",
    "    In <strong>JavaScript</strong> (and <strong>TypeScript</strong>), functions are \n",
    "    <em>\"first-class citizens\"</em>.<br>\n",
    "    This means they can be treated like any other value.\n",
    "  </p>\n",
    "\n",
    "  <h3 style=\"color: #6a5acd;\">You can:</h3>\n",
    "  <ol style=\"font-size: 16px; margin-left: 20px;\">\n",
    "    <li>✅ Assign them to variables.</li>\n",
    "    <li>✅ Pass them as arguments to other functions.</li>\n",
    "    <li>✅ Return them from other functions.</li>\n",
    "  </ol>\n",
    "\n",
    "</div>\n"
   ]
  },
  {
   "cell_type": "code",
   "execution_count": null,
   "id": "78ed0bb2-3d7b-4085-9742-c71014288b95",
   "metadata": {
    "jupyter": {
     "source_hidden": true
    }
   },
   "outputs": [],
   "source": [
    "// 1. Assigning functions to variables\n",
    "const greet = function (name: string): string {\n",
    "  return `Hello, ${name}!`;\n",
    "};\n",
    "\n",
    "const greetAlias = greet;\n",
    "\n",
    "const greetArrow = (name: string): string => `Hello, ${name}!`;\n",
    "\n",
    "assertEquals(greet('Alice'), 'Hello, Alice!');\n",
    "assertEquals(greetAlias('Alice'), 'Hello, Alice!');\n",
    "assertEquals(greetArrow('Go'), 'Hello, Go!');\n"
   ]
  },
  {
   "cell_type": "code",
   "execution_count": null,
   "id": "7322edc8-bdc6-442e-8364-049ec0a7f969",
   "metadata": {
    "collapsed": true,
    "jupyter": {
     "outputs_hidden": true,
     "source_hidden": true
    }
   },
   "outputs": [],
   "source": [
    "// Arrow functions are a concise way to write function expressions\n",
    "const add1 = (a: number, b: number): number => a + b;\n",
    "\n",
    "assertEquals(add1(5, 3), 8);\n"
   ]
  },
  {
   "cell_type": "code",
   "execution_count": null,
   "id": "148eef3d-1bb4-4fce-b358-7aa6f29f72a3",
   "metadata": {
    "collapsed": true,
    "jupyter": {
     "outputs_hidden": true,
     "source_hidden": true
    }
   },
   "outputs": [],
   "source": [
    "/**\n",
    " * A function applies the callback to each element of the array.\n",
    " * @param arr The array to iterate over.\n",
    " * @param callback The function to apply to each element.\n",
    " */\n",
    "function forEachElement(arr: any[], callback: (item: any) => void): void {\n",
    "  for (let i = 0; i < arr.length; i++) {\n",
    "    callback(arr[i]);\n",
    "  }\n",
    "}\n",
    "\n",
    "const numbers = [1, 2, 3, 4, 5];\n",
    "\n",
    "// Test for forEachElement\n",
    "const collected: number[] = [];\n",
    "const logFunc = (num: number) => collected.push(num);\n",
    "forEachElement(numbers, logFunc);\n",
    "assertEquals(collected, [1, 2, 3, 4, 5]);\n"
   ]
  },
  {
   "cell_type": "code",
   "execution_count": null,
   "id": "b9f4d458-c379-4f07-b524-b0035c33be7d",
   "metadata": {
    "collapsed": true,
    "jupyter": {
     "outputs_hidden": true,
     "source_hidden": true
    },
    "scrolled": true
   },
   "outputs": [],
   "source": [
    "/* \n",
    "    Similary a function can return another function as its return value\n",
    "*/\n",
    "\n",
    "function giveMeAFunction(): (str: string) => void {\n",
    "  return (str: string) => {\n",
    "    // Instead of console.log, collect output for assertion\n",
    "    collectedOutput.push(\n",
    "      'From a function returned from another function with received val: ' + str\n",
    "    );\n",
    "  };\n",
    "}\n",
    "\n",
    "const collectedOutput: string[] = [];\n",
    "const aFunc = giveMeAFunction();\n",
    "assertEquals(typeof aFunc, 'function');\n",
    "\n",
    "aFunc('Hello'); // From a function returned from another function!\n",
    "assertEquals(collectedOutput, [\n",
    "  'From a function returned from another function with received val: Hello',\n",
    "]);\n"
   ]
  },
  {
   "cell_type": "code",
   "execution_count": null,
   "id": "d83258d6",
   "metadata": {},
   "outputs": [],
   "source": [
    "function symbolFactory(symbol: string): () => void {\n",
    "  let symbols = symbol;\n",
    "  return () => {\n",
    "    console.log(symbols);\n",
    "    symbols = symbols + symbol;\n",
    "  };\n",
    "}\n",
    "\n",
    "const displaySymbols = symbolFactory('😹');\n",
    "\n",
    "const interval = setInterval(displaySymbols, 1000);\n",
    "setTimeout(() => clearInterval(interval), 4100);\n"
   ]
  },
  {
   "cell_type": "markdown",
   "id": "e4809088",
   "metadata": {},
   "source": [
    "## Higher Order functions\n"
   ]
  },
  {
   "cell_type": "code",
   "execution_count": null,
   "id": "462ca7ce-7886-4929-a490-ea0b8e53fc11",
   "metadata": {
    "collapsed": true,
    "jupyter": {
     "outputs_hidden": true,
     "source_hidden": true
    }
   },
   "outputs": [],
   "source": [
    "/**\n",
    " * A function that returns another function.\n",
    " * This returned function can then be used to perform a specific operation.\n",
    " * @param multiplier The value by which to multiply.\n",
    " * @returns A new function that takes a number and multiplies it by the multiplier.\n",
    " */\n",
    "function createMultiplier(multiplier: number): (num: number) => number {\n",
    "  return function (num: number): number {\n",
    "    return num * multiplier;\n",
    "  };\n",
    "}\n",
    "\n",
    "const multiplyByTwo = createMultiplier(2);\n",
    "const multiplyByTen = createMultiplier(10);\n",
    "\n",
    "assertEquals(multiplyByTwo(5), 10);\n",
    "assertEquals(multiplyByTen(5), 50);\n"
   ]
  },
  {
   "cell_type": "code",
   "execution_count": null,
   "id": "16476b77-ae38-40f8-a3da-6857194206b8",
   "metadata": {
    "collapsed": true,
    "jupyter": {
     "outputs_hidden": true,
     "source_hidden": true
    }
   },
   "outputs": [],
   "source": [
    "// Another example: a function that creates a greeting function\n",
    "function createGreeter(greeting: string): (name: string) => string {\n",
    "  return function (name: string): string {\n",
    "    return `${greeting}, ${name}!`;\n",
    "  };\n",
    "}\n",
    "\n",
    "const sayHello = createGreeter('Hello'); // returns a function!\n",
    "const sayHi = createGreeter('Hi'); // returns a function!\n",
    "\n",
    "assertEquals(sayHello('Bob'), 'Hello, Bob!');\n",
    "assertEquals(sayHi('Charlie'), 'Hi, Charlie!');\n"
   ]
  },
  {
   "cell_type": "code",
   "execution_count": null,
   "id": "74ec589a-4550-465a-af7b-c0447935ad19",
   "metadata": {
    "collapsed": true,
    "jupyter": {
     "outputs_hidden": true,
     "source_hidden": true
    }
   },
   "outputs": [],
   "source": [
    "// Another example: A function that creates a counter\n",
    "function createCounter(): () => number {\n",
    "  let count = 0; // 'count' is part of createCounter's lexical environment\n",
    "  return function (): number {\n",
    "    // This inner function forms a closure, capturing 'count'\n",
    "    count++; // It can modify 'count'\n",
    "    return count;\n",
    "  };\n",
    "}\n",
    "\n",
    "const counter1 = createCounter();\n",
    "const counter2 = createCounter();\n",
    "\n",
    "console.log('\\n--- Closures with State ---');\n",
    "console.log('Counter 1:', counter1()); // Output: 1\n",
    "console.log('Counter 1:', counter1()); // Output: 2\n",
    "console.log('Counter 2:', counter2()); // Output: 1 (independent counter)\n",
    "console.log('Counter 1:', counter1()); // Output: 3\n",
    "console.log('Counter 2:', counter2()); // Output: 2\n"
   ]
  },
  {
   "cell_type": "markdown",
   "id": "5c6f87d7-35d5-433d-ac58-a2b0910397ca",
   "metadata": {
    "jupyter": {
     "source_hidden": true
    }
   },
   "source": [
    "<div style=\"max-width:720px; border: 2px solid #ff9800; border-radius: 12px; padding: 20px; background: #fffaf2; font-family: 'Segoe UI', sans-serif; line-height: 1.8; font-size: 16px; color: #2d2d2d;\">\n",
    "\n",
    "  <h2 style=\"margin-top: 0; color: #e65100;\">⚡ Higher-Order Functions\n",
    "  </h2>\n",
    "\n",
    "  <p style=\"font-size: 17px;\">\n",
    "    A function that takes one or more functions as its arguments and/or\n",
    "    returns a function as its return value is known as a \n",
    "    <strong>Higher-Order function</strong>.\n",
    "  </p>\n",
    "\n",
    "  <p>\n",
    "    Thus <code>forEachElement</code> and <code>createGreeter</code> \n",
    "    are Higher-Order functions.\n",
    "  </p>\n",
    "\n",
    "</div>\n"
   ]
  },
  {
   "cell_type": "markdown",
   "id": "19d6df26",
   "metadata": {},
   "source": [
    "## Closure mechanism\n"
   ]
  },
  {
   "cell_type": "markdown",
   "id": "8fa0f7dd-545c-4026-ac16-1a6dc8e83c12",
   "metadata": {
    "jupyter": {
     "source_hidden": true
    }
   },
   "source": [
    "<div style=\"max-width:720px; border: 2px solid #00b894; border-radius: 12px; padding: 20px; background: #f3fcf9; font-family: 'Segoe UI', sans-serif; line-height: 1.8; font-size: 16px; color: #2d2d2d;\">\n",
    "\n",
    "  <h2 style=\"margin-top: 0; color: #009170;\">🔒 Closures</h2>\n",
    "\n",
    "  <p style=\"font-size: 17px;\">\n",
    "    A <strong>closure</strong> is the combination of a function bundled together (enclosed) \n",
    "    with references to its surrounding state (the <em>lexical environment</em>).<br><br>\n",
    "    In other words, a closure gives you access to an <strong>outer function's scope</strong> \n",
    "    from an inner function.\n",
    "  </p>\n",
    "\n",
    "  <p style=\"margin-bottom: 14px;\">\n",
    "    In JavaScript, closures are created <em>every time a function is created</em>, at function creation time.\n",
    "  </p>\n",
    "\n",
    "</div>\n"
   ]
  },
  {
   "cell_type": "code",
   "execution_count": null,
   "id": "05b81ecf-658f-4f88-a2db-7f30f5863bed",
   "metadata": {
    "collapsed": true,
    "jupyter": {
     "outputs_hidden": true
    }
   },
   "outputs": [],
   "source": [
    "// Function that adds three numbers\n",
    "function addThree(a: number, b: number, c: number): number {\n",
    "  return a + b + c;\n",
    "}\n",
    "\n",
    "// addThree can be expressed like this as well:\n",
    "function addThreeNumbers(a: number): (b: number) => (c: number) => number {\n",
    "  return function (b: number): (c: number) => number {\n",
    "    return function (c: number): number {\n",
    "      return a + b + c;\n",
    "    };\n",
    "  };\n",
    "}\n",
    "\n",
    "const add5 = addThreeNumbers(5);\n",
    "const add5and10 = add5(10);\n",
    "const result = add5and10(20);\n",
    "\n",
    "assertEquals(result, 35);\n",
    "assertEquals(addThreeNumbers(1)(2)(3), 6);\n"
   ]
  },
  {
   "cell_type": "markdown",
   "id": "7e9a12f5",
   "metadata": {},
   "source": [
    "## Currying and partial application\n"
   ]
  },
  {
   "cell_type": "markdown",
   "id": "93a916ed-c6de-4f15-af03-8cc9a290f139",
   "metadata": {},
   "source": [
    "<div style=\"border: 2px; max-width:720px; solid #673ab7; border-radius: 12px; padding: 20px; background: #f9f6ff; font-family: 'Segoe UI', sans-serif; line-height: 1.8; font-size: 16px; color: #2d2d2d;\">\n",
    "\n",
    "  <h2 style=\"margin-top: 0; color: #4527a0;\"> Currying and Partial application </h2>\n",
    "\n",
    "  <p style=\"font-size: 17px;\">\n",
    "    Currying is the process of transforming a function that takes multiple arguments\n",
    "    into a sequence of functions, each taking a single argument, and the innermost one \n",
    "    actually implements the final logic using the closed-over parameters.\n",
    "  </p>\n",
    "  <p style=\"font-size: 17px;\">\n",
    "    Currying enabled us to create intermediate functions such as \n",
    "    <code>add5</code>, <code>add5and10</code>, which are functions.\n",
    "    This way of creating functions by partially applying few arguments \n",
    "    to a curried function is also known as <strong>partial application</strong>.\n",
    "  </p>\n",
    "\n",
    "  <p>\n",
    "    The functions that we generate via partial application are also known as \n",
    "    <strong>point-free functions</strong>.\n",
    "  </p>\n",
    "\n",
    "  <p style=\"margin-top: 18px; font-size: 17px; color: #311b92; font-weight: 600;\">\n",
    "    Immediate benefit of currying: via partial application, we can create reusable \n",
    "    point-free functions which remember their closed over context.\n",
    "  </p>\n",
    "\n",
    "</div>\n"
   ]
  },
  {
   "cell_type": "code",
   "execution_count": null,
   "id": "aa672a2e-9db0-4541-9279-5867ae4040d6",
   "metadata": {},
   "outputs": [],
   "source": [
    "// Let us have a log function that takes module name, log level, and the message as its argument.\n",
    "\n",
    "function log(\n",
    "  module: string,\n",
    "  level: 'WARN' | 'DEBUG' | 'INFO',\n",
    "  message: string\n",
    "): void {\n",
    "  console.log(`${module}: ${level}: ${message}`);\n",
    "}\n",
    "\n",
    "log('service', 'DEBUG', 'The memory usage is high');\n",
    "log('service', 'DEBUG', 'function doStuff called!');\n",
    "\n",
    "// To create a reusable function to be used in a module 'service' with level 'WARN'\n",
    "function logServiceWarn(message: string): void {\n",
    "  log('service', 'WARN', message);\n",
    "}\n",
    "\n",
    "logServiceWarn('Memory overrun detected!');\n",
    "\n",
    "// But if we make a curried version of log function, creating partially applied point free\n",
    "// function becomes a breeze.\n",
    "const curriedLog = function (\n",
    "  module: string\n",
    "): (level: 'WARN' | 'DEBUG' | 'INFO') => (message: string) => void {\n",
    "  return function (\n",
    "    level: 'WARN' | 'DEBUG' | 'INFO'\n",
    "  ): (message: string) => void {\n",
    "    return function (message: string) {\n",
    "      console.log(`${module}: ${level}: ${message}`);\n",
    "    };\n",
    "  };\n",
    "};\n",
    "\n",
    "const logServiceWarn1 = curriedLog('service')('WARN');\n",
    "logServiceWarn1('Memory might overrun soon!');\n"
   ]
  },
  {
   "cell_type": "code",
   "execution_count": 3,
   "id": "bd42d9df",
   "metadata": {},
   "outputs": [],
   "source": [
    "/**\n",
    " * A generic curry function that transforms a function with multiple arguments\n",
    " * into a sequence of functions, each taking a single argument.\n",
    " *\n",
    " * @param fn The function to curry.\n",
    " * @returns A curried version of the function.\n",
    " */\n",
    "function curry<T extends (...args: any[]) => any>(\n",
    "  fn: T\n",
    "): (...args: Parameters<T>) => ReturnType<T> {\n",
    "  return function curried(...args: any[]): any {\n",
    "    // If the number of provided arguments is sufficient, call the original function.\n",
    "    if (args.length >= fn.length) {\n",
    "      return fn(...args);\n",
    "    }\n",
    "    // Otherwise, return a new function that waits for the remaining arguments.\n",
    "    return (...nextArgs: any[]) => curried(...args, ...nextArgs);\n",
    "  };\n",
    "}\n",
    "// Function that adds three numbers\n",
    "function add(a: number, b: number, c: number): number {\n",
    "  return a + b + c;\n",
    "}\n",
    "\n",
    "// Create a curried version of the add function.\n",
    "const curriedAdd = curry(add);\n",
    "\n",
    "// Use the curried function with partial application.\n",
    "const add5 = curriedAdd(5); // Returns a function: (b, c) => 5 + b + c\n",
    "const add5and10 = add5(10); // Returns a function: (c) => 5 + 10 + c\n",
    "const result = add5and10(20); // Returns the final result: 35\n",
    "\n",
    "assertEquals(result, 35);\n"
   ]
  },
  {
   "cell_type": "markdown",
   "id": "1add2ff6",
   "metadata": {},
   "source": [
    "## Imperative style of coding and declarative alternatives\n"
   ]
  },
  {
   "cell_type": "markdown",
   "id": "7c6e1ec3",
   "metadata": {},
   "source": [
    "### transforming items in an array\n"
   ]
  },
  {
   "cell_type": "code",
   "execution_count": null,
   "id": "907a00c5-3b68-4a5a-8b8c-c3d83ecfe8a2",
   "metadata": {},
   "outputs": [],
   "source": [
    "// 1. Compute squares of numbers\n",
    "// [1, 2, 3, 4, 5]; ==> [ 1, 4, 9, 16, 25 ]\n",
    "function computeSquaresImperative(numbers: number[]): number[] {\n",
    "  const squares: number[] = []; // Mutable state\n",
    "  for (let i = 0; i < numbers.length; i++) {\n",
    "    squares.push(numbers[i] * numbers[i]); // Explicit step-by-step mutation\n",
    "  }\n",
    "  return squares;\n",
    "}\n",
    "\n",
    "let nums = [1, 2, 3, 4, 5];\n",
    "const squaredNumsImperative = computeSquaresImperative(nums);\n",
    "console.log('Squared numbers (Imperative):', squaredNumsImperative); // Output: [1, 4, 9, 16, 25]\n"
   ]
  },
  {
   "cell_type": "code",
   "execution_count": null,
   "id": "57d550c1-076d-4df3-b45d-1aeb3e9df193",
   "metadata": {},
   "outputs": [],
   "source": [
    "// 2. Capitalize an array of strings\n",
    "// ['apple', 'banana', 'cherry']; ==> [ 'Apple', 'Banana', 'Cherry' ]\n",
    "function capitalizeStringsImperative(words: string[]): string[] {\n",
    "  const capitalizedWords: string[] = []; // Mutable state\n",
    "  for (let i = 0; i < words.length; i++) {\n",
    "    capitalizedWords.push(words[i].charAt(0).toUpperCase() + words[i].slice(1)); // Explicit step-by-step mutation\n",
    "  }\n",
    "  return capitalizedWords;\n",
    "}\n",
    "\n",
    "const words = ['apple', 'banana', 'cherry'];\n",
    "const capitalizedWordsImperative = capitalizeStringsImperative(words);\n",
    "console.log('Capitalized words (Imperative):', capitalizedWordsImperative); // Output: [\"Apple\", \"Banana\", \"Cherry\"]\n"
   ]
  },
  {
   "cell_type": "markdown",
   "id": "b7700cfc",
   "metadata": {},
   "source": [
    "<div style=\"max-width:720px;padding:1.25rem 1.5rem;border:1px solid #e5e7eb;border-radius:16px;background:#fafafa;\">\n",
    "  <div style=\"display:flex;gap:.75rem;align-items:flex-start;\">\n",
    "    <span aria-hidden=\"true\" style=\"font-size:2rem;line-height:1;\">“</span>\n",
    "    <p style=\"margin:0;font-family:system-ui,-apple-system,Segoe UI,Roboto,Helvetica,Arial,sans-serif;font-size:1.05rem;line-height:1.6;color:#111827;\">\n",
    "      Imperative implementation of transforming an array of numbers, or strings above focus more on\n",
    "      <em style=\"color:red;\">how</em> to do things than focusing on <em style=\"color:red;\">what</em> to do.\n",
    "    </p>\n",
    "\n",
    "  </div>\n",
    "  <p style=\"color:green\"> Can we do better? </p>\n",
    "</div>\n"
   ]
  },
  {
   "cell_type": "markdown",
   "id": "1d714272",
   "metadata": {},
   "source": [
    "#### map function\n"
   ]
  },
  {
   "cell_type": "code",
   "execution_count": null,
   "id": "0c2a737f",
   "metadata": {},
   "outputs": [],
   "source": [
    "function map<T, U>(array: T[], transform: (item: T) => U): U[] {\n",
    "  const result = [];\n",
    "  for (let item of array) {\n",
    "    result.push(transform(item));\n",
    "  }\n",
    "  return result;\n",
    "}\n",
    "nums = [1, 2, 3, 4];\n",
    "let squared = map(nums, (num) => num * num);\n",
    "assertEquals(squared, [1, 3, 9, 16]);\n",
    "\n",
    "// We really don't need to implement such map ourselves, JS's Array already has map defined in it.\n",
    "squared = nums.map((num) => num * num);\n",
    "assertEquals(squared, [1, 3, 9, 16]);\n"
   ]
  },
  {
   "cell_type": "markdown",
   "id": "cba047db",
   "metadata": {},
   "source": [
    "### filtering an array\n"
   ]
  },
  {
   "cell_type": "code",
   "execution_count": null,
   "id": "7aef5169",
   "metadata": {},
   "outputs": [],
   "source": [
    "// 1. Filter even numbers\n",
    "function filterEvenImperative(numbers: number[]): number[] {\n",
    "  const evens: number[] = []; // Mutable state\n",
    "  for (let i = 0; i < numbers.length; i++) {\n",
    "    if (numbers[i] % 2 === 0) {\n",
    "      evens.push(numbers[i]); // Explicit step-by-step mutation\n",
    "    }\n",
    "  }\n",
    "  return evens;\n",
    "}\n",
    "\n",
    "const numbersToFilter = [1, 2, 3, 4, 5, 6, 7, 8, 9, 10];\n",
    "const evenNumbersImperative = filterEvenImperative(numbersToFilter);\n",
    "assertEquals(evenNumbersImperative, [2, 4, 6, 8, 10]);\n"
   ]
  },
  {
   "cell_type": "code",
   "execution_count": null,
   "id": "2c20373e",
   "metadata": {},
   "outputs": [],
   "source": [
    "// 2. Filter strings longer than a certain length\n",
    "function filterLongStringsImperative(\n",
    "  words: string[],\n",
    "  minLength: number\n",
    "): string[] {\n",
    "  const longWords: string[] = []; // Mutable state\n",
    "  for (let i = 0; i < words.length; i++) {\n",
    "    if (words[i].length > minLength) {\n",
    "      longWords.push(words[i]); // Explicit step-by-step mutation\n",
    "    }\n",
    "  }\n",
    "  return longWords;\n",
    "}\n",
    "\n",
    "const wordsToFilter = ['apple', 'banana', 'cat', 'dog', 'elephant'];\n",
    "const filteredWords = filterLongStringsImperative(wordsToFilter, 4);\n",
    "assertEquals(filteredWords, ['apple', 'banana', 'elephant']);\n"
   ]
  },
  {
   "cell_type": "markdown",
   "id": "ebe6d5d9",
   "metadata": {},
   "source": [
    "#### filter function\n"
   ]
  },
  {
   "cell_type": "code",
   "execution_count": null,
   "id": "95f1c14c",
   "metadata": {},
   "outputs": [],
   "source": [
    "/*\n",
    "    We can abstract this common filtering logic into a reusable 'filter' function.\n",
    "    This 'filter' function will receive the array and a predicate function as its arguments.\n",
    "*/\n",
    "function filter<T>(array: T[], predicate: (item) => boolean): T[] {\n",
    "  const result: T[] = [];\n",
    "  for (let index = 0; index < array.length; index++) {\n",
    "    if (predicate(array[index])) {\n",
    "      result.push(array[index]);\n",
    "    }\n",
    "  }\n",
    "  return result;\n",
    "}\n",
    "\n",
    "let evens = filter(numbersToFilter, (num) => num % 2 === 0);\n",
    "assertEquals(evens, [2, 4, 6, 8, 10]);\n",
    "\n",
    "// Array already supports filter\n",
    "evens = numbersToFilter.filter((num) => num % 2 === 0);\n",
    "assertEquals(evens, [2, 4, 6, 8, 10]);\n"
   ]
  },
  {
   "cell_type": "markdown",
   "id": "ecb28ce3",
   "metadata": {},
   "source": [
    "### accumulating over values in an array\n"
   ]
  },
  {
   "cell_type": "code",
   "execution_count": null,
   "id": "83fe3b97",
   "metadata": {},
   "outputs": [],
   "source": [
    "// Imperative version: Sum\n",
    "function imperativeSum(array: number[]): number {\n",
    "  const initial = 0;\n",
    "  let accumulated = initial;\n",
    "  for (let i = 0; i < array.length; i++) {\n",
    "    accumulated = accumulated + array[i];\n",
    "  }\n",
    "  return accumulated;\n",
    "}\n",
    "\n",
    "const sum = imperativeSum([1, 2, 3, 4]);\n",
    "assertEquals(sum, 10);\n",
    "\n",
    "//  Concatenate array of strings imperatively\n",
    "function imperativeConcat(array: string[]): string {\n",
    "  const initialValue = '';\n",
    "  let accumulated = initialValue;\n",
    "  for (let i = 0; i < array.length; i++) {\n",
    "    accumulated = accumulated + array[i];\n",
    "  }\n",
    "  return accumulated;\n",
    "}\n",
    "\n",
    "const concated = imperativeConcat(['a', 'b', 'c']);\n",
    "assertEquals(concated, 'abc');\n"
   ]
  },
  {
   "cell_type": "markdown",
   "id": "39c64d00",
   "metadata": {},
   "source": [
    "#### reduce or fold function\n"
   ]
  },
  {
   "cell_type": "code",
   "execution_count": null,
   "id": "6fa8f7ad",
   "metadata": {},
   "outputs": [],
   "source": [
    "// This operation is often known as reduce or fold\n",
    "function reduce<T, U>(\n",
    "  array: T[],\n",
    "  reducer: (accumulated: U, current: T) => U,\n",
    "  initial: U\n",
    ") {\n",
    "  let accumulated = initial;\n",
    "\n",
    "  for (let i = 0; i < array.length; i++) {\n",
    "    accumulated = reducer(accumulated, array[i]);\n",
    "  }\n",
    "\n",
    "  return accumulated;\n",
    "}\n",
    "\n",
    "let sumUsingReduce = reduce(\n",
    "  [1, 2, 3, 4, 5],\n",
    "  (accumulated, current) => accumulated + current,\n",
    "  0\n",
    ");\n",
    "\n",
    "assertEquals(sumUsingReduce, 15);\n",
    "\n",
    "// Again we don't need to implement reduce, Array already has reduce\n",
    "sumUsingReduce = [1, 2, 3, 4, 5].reduce(\n",
    "  (accumulated, current) => accumulated + current,\n",
    "  0\n",
    ");\n",
    "\n",
    "assertEquals(sumUsingReduce, 15);\n"
   ]
  },
  {
   "cell_type": "code",
   "execution_count": null,
   "id": "a7721b96",
   "metadata": {},
   "outputs": [],
   "source": [
    "// Imperative implementation where we filter odd numbers, then square them and add them\n",
    "function sumOfSquaresOfEvensImperative(arr: number[]): number {\n",
    "  let sum = 0;\n",
    "  for (let i = 0; i < arr.length; i++) {\n",
    "    if (arr[i] % 2 === 0) {\n",
    "      sum += arr[i] * arr[i];\n",
    "    }\n",
    "  }\n",
    "  return sum;\n",
    "}\n",
    "const numbers = [1, 2, 3, 4, 5, 6];\n",
    "assertEquals(sumOfSquaresOfEvensImperative(numbers), 56);\n",
    "\n",
    "// Now the same can be expressed using map/filter/reduce like this-\n",
    "const sumDeclarative = numbers\n",
    "  .filter((num) => num % 2 === 0)\n",
    "  .map((item) => item * item)\n",
    "  .reduce((accumulated, current) => accumulated + current, 0);\n",
    "\n",
    "assertEquals(sumDeclarative(numbers), 56);\n"
   ]
  },
  {
   "cell_type": "code",
   "execution_count": null,
   "id": "a84def1a",
   "metadata": {},
   "outputs": [],
   "source": [
    "// Reduce is quite versatile, you can implement all sorts of other functions using it.\n",
    "function mapUsingReduce<T, U>(array: T[], transform: (item: T) => U): U[] {\n",
    "  return array.reduce((accumulated, current) => {\n",
    "    accumulated.push(transform(current));\n",
    "    return accumulated;\n",
    "  }, []);\n",
    "}\n",
    "\n",
    "const capitals = ['Delhi', 'Bangalore', 'Panaji', 'Chennai'];\n",
    "\n",
    "assertEquals(\n",
    "  mapUsingReduce(capitals, (str) => str.toUpperCase()),\n",
    "  ['DELHI', 'BANGALORE', 'PANAJI', 'CHENNAI']\n",
    ");\n"
   ]
  },
  {
   "cell_type": "markdown",
   "id": "76f97a56",
   "metadata": {},
   "source": [
    "## Conclusion\n"
   ]
  },
  {
   "cell_type": "markdown",
   "id": "ba0e1871",
   "metadata": {},
   "source": [
    "<div style=\"max-width:720px;padding:1.5rem 1.75rem;border:1px solid #e5e7eb;border-radius:16px;background:#f9fafb;font-family:system-ui,-apple-system,Segoe UI,Roboto,Helvetica,Arial,sans-serif;line-height:1.65;color:#111827;\">\n",
    "\n",
    "### ✨ In nutshell\n",
    "\n",
    "- ✅ From **impure** ➝ **pure** functions\n",
    "- ✅ Eliminating **side effects**\n",
    "- ✅ Moving from **mutating state** ➝ **immutable copies** of state\n",
    "- ✅ Invent partially applied functions via currying as and when needed in point free style, than requiring to invent them as yet new wrapper functions using function or arrow syntax\n",
    "- ✅ Shifting from **imperative** (“_how_”) ➝ **declarative** (“_what_”) style of programming\n",
    "- ✅ Abstracting out **business-agnostic reusable HOFs** (e.g., `map`, `filter`, `reduce`) to enable **declarative algorithms**\n",
    "\n",
    "---\n",
    "\n",
    "<p style=\"margin:.75rem 0 0;font-size:1.05rem;\">\n",
    "The above set of practices is collectively known as <strong>Functional Programming</strong>.\n",
    "Thanks to JavaScript's support for functions as first class citizens and closure support. \n",
    "</p>\n",
    "\n",
    "---\n",
    "\n",
    "<p style=\"margin:.75rem 0 0;color:#374151;\">\n",
    "We’ve just scratched the surface! 🚀  \n",
    "There’s much more to explore — <em>compose and pipe, functors, applicatives, monads</em>, and beyond.  \n",
    "But that’s a journey for a future session.\n",
    "</p>\n",
    "\n",
    "</div>\n"
   ]
  }
 ],
 "metadata": {
  "kernelspec": {
   "display_name": "Deno",
   "language": "typescript",
   "name": "deno"
  },
  "language_info": {
   "codemirror_mode": "typescript",
   "file_extension": ".ts",
   "mimetype": "text/x.typescript",
   "name": "typescript",
   "nbconvert_exporter": "script",
   "pygments_lexer": "typescript",
   "version": "5.8.3"
  }
 },
 "nbformat": 4,
 "nbformat_minor": 5
}
